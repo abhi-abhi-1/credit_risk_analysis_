{
  "nbformat": 4,
  "nbformat_minor": 0,
  "metadata": {
    "colab": {
      "name": "#0012 - Statistics #03 - Standard Deviation and Variance.ipynb",
      "provenance": [],
      "collapsed_sections": [],
      "authorship_tag": "ABX9TyOoct41JWidb8Y4YqrQP07I",
      "include_colab_link": true
    },
    "kernelspec": {
      "name": "python3",
      "display_name": "Python 3"
    },
    "language_info": {
      "name": "python"
    }
  },
  "cells": [
    {
      "cell_type": "markdown",
      "metadata": {
        "id": "view-in-github",
        "colab_type": "text"
      },
      "source": [
        "<a href=\"https://colab.research.google.com/github/rmpbastos/data_science/blob/master/_0012_Statistics_03_Standard_Deviation_and_Variance.ipynb\" target=\"_parent\"><img src=\"https://colab.research.google.com/assets/colab-badge.svg\" alt=\"Open In Colab\"/></a>"
      ]
    },
    {
      "cell_type": "code",
      "metadata": {
        "id": "-mZNo1OSOcON"
      },
      "source": [
        "# Python libraries used in this article\n",
        "import pandas as pd\n",
        "import matplotlib as mpl\n",
        "import matplotlib.pyplot as plt\n",
        "import seaborn as sns"
      ],
      "execution_count": 1,
      "outputs": []
    },
    {
      "cell_type": "code",
      "metadata": {
        "id": "cD49fw4_O0Pc"
      },
      "source": [
        "# Set default matplotlib parameters\n",
        "LIGHT_GRAY = '#ababab'\n",
        "MID_GRAY = '#898989'\n",
        "DARK_GRAY = '#585858'\n",
        "mpl.rcParams['figure.titlesize'] = 18\n",
        "mpl.rcParams['axes.labelsize'] = 16\n",
        "mpl.rcParams['text.color'] = 'black'\n",
        "mpl.rcParams['axes.labelcolor'] = DARK_GRAY\n",
        "mpl.rcParams['xtick.color'] = DARK_GRAY\n",
        "mpl.rcParams['xtick.labelsize'] = 12\n",
        "mpl.rcParams['ytick.color'] = DARK_GRAY\n",
        "mpl.rcParams['ytick.labelsize'] = 12\n",
        "mpl.rcParams['grid.color'] = LIGHT_GRAY\n",
        "mpl.rcParams['grid.alpha'] = 0.1\n",
        "mpl.rcParams['axes.edgecolor'] = LIGHT_GRAY\n",
        "mpl.rcParams['patch.edgecolor'] = DARK_GRAY\n",
        "mpl.rcParams['patch.linewidth'] = 0.5"
      ],
      "execution_count": 2,
      "outputs": []
    },
    {
      "cell_type": "markdown",
      "metadata": {
        "id": "FMUOlI4rO27l"
      },
      "source": [
        "# Statistics #03 - Standard Deviation and Variance\n",
        "\n",
        "### Measuring Data Variability with a few codes in Python\n",
        "\n",
        "\n",
        "\n",
        "---\n",
        "\n",
        "![Statistics](https://raw.githubusercontent.com/rmpbastos/data_science/master/img/tolga-ulkan-9k36QqhA0cU-unsplash.jpg)\n",
        "\n",
        "In this article, we'll take a closer look at how we can measure data variability. In the following sessions, you'll learn the basics of **Standard Deviation** and **Variance**.  This work is a sequence of the [previous article](https://bit.ly/3eyZ6HI) of this series, where we learned how to measure and visualize the spread of data.\n",
        "\n",
        "If you haven't read the previous article, don't worry! Briefly speaking, we examined data dispersion, introducing the concepts of range, quartiles, and how box plots can help us visualize the data spread in our set.\n",
        "\n",
        "Depending on your goals, it might suffice to have the range, the mean, or median of your set, for instance. But sometimes, you may need to go further and analyze the variability of your data, that is, how the values fluctuate around the set's mean. To that end, today we'll study the concepts of **variance** and **standard deviation**."
      ]
    },
    {
      "cell_type": "markdown",
      "metadata": {
        "id": "Xy-i8qQDAr5Z"
      },
      "source": [
        "## Variance\n",
        "\n",
        "In one sentence, variance is **the average of the squared differences from the mean**.\n",
        "\n",
        "To understand what it  means, let's first take a look at the same data set used in the previous articles, where we have a list of 10 salaries, as below:"
      ]
    },
    {
      "cell_type": "markdown",
      "metadata": {
        "id": "K5t6KrcfCZxe"
      },
      "source": [
        "![numbers.png](data:image/png;base64,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)"
      ]
    },
    {
      "cell_type": "markdown",
      "metadata": {
        "id": "X87ZK0qqEMZO"
      },
      "source": [
        "First of all, let's create a pandas DataFrame with our list of salaries, and then, let's observe the charts below to visualize the mean and how values are dispersed throughout the data set."
      ]
    },
    {
      "cell_type": "code",
      "metadata": {
        "id": "SZgmKSfsPTAl"
      },
      "source": [
        "salaries = [15000, 15000, 20000, 20000, 20000, 25000, 25000, 30000, 35000, 200000]\n",
        "salaries_df = pd.DataFrame(salaries, columns=[\"salaries\"])"
      ],
      "execution_count": 3,
      "outputs": []
    },
    {
      "cell_type": "code",
      "metadata": {
        "colab": {
          "base_uri": "https://localhost:8080/",
          "height": 917
        },
        "id": "3TJOCSLFG5r7",
        "outputId": "967f24ed-fe61-4b1c-b9c5-8939947cea19"
      },
      "source": [
        "# Draw the charts\n",
        "fig, ax = plt.subplots(nrows=2, ncols=1, figsize=(15,15))\n",
        "\n",
        "yticks = [1, 2, 3]\n",
        "xticks = [17500, 22500, 27500, 32500, 37500, 197500]\n",
        "xlabels = [15000, 20000, 25000, 30000, 35000, 200000]\n",
        "\n",
        "# Settings for both axes\n",
        "for i in range(2):\n",
        "  sns.histplot(data=salaries_df, bins=37, legend=None, ax=ax[i])\n",
        "  ax[i].set_xticks(xticks)\n",
        "  ax[i].set_xticklabels(labels=xlabels, rotation=90)\n",
        "  ax[i].set_yticks(yticks)\n",
        "\n",
        "# Settings for the first axis\n",
        "ax[0].axvline(x=int(pd.DataFrame.mean(salaries_df)), color='r', linestyle='dashed', linewidth=1.5)\n",
        "min_ylim, max_ylim = plt.ylim()\n",
        "ax[0].text((int(pd.DataFrame.mean(salaries_df)))*1.1, max_ylim*0.9, 'Mean: {:,.0f}'.format((int(pd.DataFrame.mean(salaries_df)))), color=\"r\", fontsize=12)\n",
        "\n",
        "# Settings for the second axis\n",
        "ax[1].axhline(y=3.2, xmin=0.047, xmax=0.955, color = 'r', linestyle='dashed', linewidth=1.5)\n",
        "for val in (15000, 200000):\n",
        "  ax[1].axvline(x=val, ymin=0.93, ymax=0.971, color='r', linewidth=1.5)\n",
        "\n",
        "x_pos = (200000 - 15000) / 2\n",
        "ax[1].text(x_pos, 3, \"Range = 185,000\", color='r', fontsize=12)\n",
        "ax[1].set_xlabel(\"Salaries\")\n",
        "\n",
        "plt.show()\n"
      ],
      "execution_count": null,
      "outputs": [
        {
          "output_type": "display_data",
          "data": {
            "image/png": "[encoded data removed]",
            "text/plain": [
              "<Figure size 1080x1080 with 2 Axes>"
            ]
          },
          "metadata": {
            "tags": [],
            "needs_background": "light"
          }
        }
      ]
    },
    {
      "cell_type": "markdown",
      "metadata": {
        "id": "NQzuXLczjS4Y"
      },
      "source": [
        "Notice that most of the values are concentrated around 15,000 and 35,000, but there is an extreme value (an outlier) of 200,000 that pushes up the mean to 40,500 and dilates the range to 185,000.\n",
        "\n",
        "Now, going back to the concept introduced earlier, let's calculate the variance. We are going to add together the square of the differences of each point from the mean, and then divide it by the number of values in the set."
      ]
    },
    {
      "cell_type": "markdown",
      "metadata": {
        "id": "WDG95u7Csr48"
      },
      "source": [
        "Remember that the mean ($\\mu$) is 40,500. In **Python**, using a library called **Pandas**, we can simply write the following code to obtain the mean of a Pandas DataFrame:"
      ]
    },
    {
      "cell_type": "code",
      "metadata": {
        "colab": {
          "base_uri": "https://localhost:8080/"
        },
        "id": "GIsXXh9jsoHJ",
        "outputId": "14e1065b-f8e2-4473-e129-f9929b6b6e85"
      },
      "source": [
        "salaries_df.mean()"
      ],
      "execution_count": null,
      "outputs": [
        {
          "output_type": "execute_result",
          "data": {
            "text/plain": [
              "salaries    40500.0\n",
              "dtype: float64"
            ]
          },
          "metadata": {
            "tags": []
          },
          "execution_count": 41
        }
      ]
    },
    {
      "cell_type": "markdown",
      "metadata": {
        "id": "UJVMudzeH4DU"
      },
      "source": [
        "![eq1.png](data:image/png;base64,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)"
      ]
    },
    {
      "cell_type": "markdown",
      "metadata": {
        "id": "WlpnWrVp45lZ"
      },
      "source": [
        "The variance is commonly represented as the Greek lowercase letter *Sigma* squared ($\\sigma^2$). One way of finding the variance is using the following equation:"
      ]
    },
    {
      "cell_type": "markdown",
      "metadata": {
        "id": "9HPTXjqAH-zR"
      },
      "source": [
        "![eq2.png](data:image/png;base64,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)"
      ]
    },
    {
      "cell_type": "markdown",
      "metadata": {
        "id": "jl0DQGMC5xc8"
      },
      "source": [
        "Where *x* represents each term in the set, $\\mu$ is the mean, and *n* is the number of terms in the set.\n",
        "\n",
        "There is also a quicker way to find the variance. Please check the equation below."
      ]
    },
    {
      "cell_type": "markdown",
      "metadata": {
        "id": "TmSh51xkICSF"
      },
      "source": [
        "![eq3.png](data:image/png;base64,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)"
      ]
    },
    {
      "cell_type": "markdown",
      "metadata": {
        "id": "W06iuwhd6SKF"
      },
      "source": [
        "In Python, we can use this simple line of code to obtain the variance."
      ]
    },
    {
      "cell_type": "code",
      "metadata": {
        "colab": {
          "base_uri": "https://localhost:8080/"
        },
        "id": "WrVI72Mjp-KO",
        "outputId": "467c9049-9b2c-45a9-9258-c4c950b76b92"
      },
      "source": [
        "salaries_df.var(ddof=0)"
      ],
      "execution_count": null,
      "outputs": [
        {
          "output_type": "execute_result",
          "data": {
            "text/plain": [
              "salaries    2.862250e+09\n",
              "dtype: float64"
            ]
          },
          "metadata": {
            "tags": []
          },
          "execution_count": 47
        }
      ]
    },
    {
      "cell_type": "markdown",
      "metadata": {
        "id": "5JFcT5CK6fUJ"
      },
      "source": [
        "Obs: Notice that I used the argument *ddof* and set it to zero. Don't bother with it. *ddof* stands for \"Delta Degrees of Freedom\" and I had to set it to zero because Python Pandas gives us the variance normalized by **n - ddof** and ddof is defined as *1* by default."
      ]
    },
    {
      "cell_type": "markdown",
      "metadata": {
        "id": "2Z1iOg848yxg"
      },
      "source": [
        "Ok, so now we have the value of the variance, but you might have noticed that it's extremely large! That is because the variance is measured using the values squared. \n",
        "\n",
        "You should be questioning yourself which insight you can get from such a huge number! Although the variance is widely used, there is another statistical concept that is more intuitive when we are measuring the variability of data around the mean. That is the **Standard Deviation**."
      ]
    },
    {
      "cell_type": "markdown",
      "metadata": {
        "id": "ff1dKuBEBYHi"
      },
      "source": [
        "## Standard Deviation\n",
        "\n",
        "After identifying the variance, finding the standard deviation is pretty straightforward. It's the **square root of the variance**.\n",
        "\n",
        "Remember that the symbol of the variance is $\\sigma^2$? The standard deviation is represented by $\\sigma$."
      ]
    },
    {
      "cell_type": "markdown",
      "metadata": {
        "id": "JZugRsqeIGBO"
      },
      "source": [
        "![eq4.png](data:image/png;base64,iVBORw0KGgoAAAANSUhEUgAAAJgAAAAxCAIAAACps/dQAAAACXBIWXMAAAuJAAALiQE3ycutAAAIQUlEQVR4Xu2ZPXDaaBrHn73cWMXN6ppobm5Qo6hgooI9FZwpvKbIQsHZBYsL1i6wXRC5ADfGMzeGmRugMVRx4eAC48LYhUMKwxbAFcAVJldYaVAalJ1ZtHMzKHMZtA1yivcK8X2OHV+SS6zoVz7vx/NKf54PvXyFEAKD289vJg0GtxNDSJ1gCKkTDCF1giGkTjCE1AmGkDrBEFInGELqBENInWAIqRNuq5Bi/gmvTBq/ZG6nkHI+cSRj+KT5S+ar2/jvh5BY+Ov5mzsXdyYHhrx5/a9/T/3xD7+btGu8ef3zT/Kb35vot0+4ajlcN+GK/d+8/vknuQtw59JRAADAHZGDNXbSeg2/nTR8/iilVP3Pf3u6edNH1Te3L7WK2Yy6uPLRVVT5xPfffPNDVpoc+Ey5bUKq1VSZXpknJu0fHEUSJYxk6NtSiG9ZjZSyy2GIHyyRkwNfPLcqItV6KkesLBgqXsK7NjuyUK0LkqKOmDDavmD7f75UOZ8S5yJxbGgohUMpQVIwT3JvjcVBqcd+CObJyI97vdyrivlE4khQQAXSw80qz8C5OU8DgMIngrGqpBCeZJzlE4/KMqjYbGRvjcVA4R8HwzlJwe3xg4h9mFpVqbqfSNVkUFV8jvPAc5nlllgcAFR+Pxg7EmRycWdnFSuFY0cSqLKM2zeTEefYG1KEfOrRkfYFjNGL8fi8NqwI+WymUBNlFQCIuUhylb1pTkfX0q5s+2bM1H9hDRQ7k3M/It3zqHvMYzPt86Wb3cb2A8ocKHYRQu0Tn4WirFtnCCGEOmdRl2UmUGwjhFBz122mKIs2DzW2fRvFTivtpiiz1bvbaDfSXqvZunGGUPs04NtudNqHXorynrT7zrqNtNdi9Z00h37M/eHGrm+j0mmmXRRlfeD2p8/bCCF0tmWlLIFKt78DQs0T/4zFFa20EEKtE/+M5hB1G2mf1eLaKra6CCHUPdua8R4OHL8r10WkXAp9H6ySqztlzk6C+CS0HKnbUv/ccQ7jYhRhfzlcuPbGhZiL760yk1YNpf44GH7uOe4HVR+5lBIcm5HB71StZwokd0zL2fpLIJ0kBgDEQjJS+C5jIgBALoWDGcmeOnYSAAC0jSXgOTnNYgDA53jSs4mLIQmm2PXkGoOVUqJK2B0MiNkjbPGAgdIjAe46iZ47tR57GOeZ2D8WaAwACNs0CTWVZQgAAKFQIz1ruFyWATB2vR9MGIaBqgzehVINLW9WydjfI3YSQKkXqr9gtmkSlFJoOV4jQuW4FrtyvSwQ7OLNu7lJZcdon/ot1MxGZRAH3aLfTD3YboxO+nB0ztN+9wMrRVGu3eb4UGPb6z8dSwDtZrODUCvtGpt9HnVtVBBCje0HFGXdGARE+9BLDQ7eabU6vSnudKu/VBtqNtsItU98Zsq6ddZb3Tp0mymzb+C/e+o3U1o4DZY0d11ju7XS7qHDnrN+QkAIIdTtdvvTKPOM2+vTCERPtIi+IVdGpJTPlH+9x3HDQqHI8gVgX18eju+LKivk+sFTKfwtV8ikqqtJe9+PUkrx7PrmWNkgaBpAzOZewP2Qk+4ZJV6kZ9cBhELpJUw5ZtneDipf4+Hu/LSWBnCSBJB5/iXc4yaqPE7TAHI2V78wLXls2mq5mnt+AdMOW98//4y/mGJnezlFW1KtiWBaYvu7KfWaAKYlR29O7zyO3o4AWsQCSC8kANPS3tPIWzLUu3JV16ryzwQw2R39twQgV8sCmGy2oeVDgtF2J4PjTm7pHrzKZ/Jyf0B8klE9K5c8qVyvvRg9j1Sq4Q47DqooSgDM9KBjEGr8xRQzy4IqS7IKAKDWazzcHagxipTPPbu4N+9hQZFEGUB8IQGYGLaf7kSef6VtLkuS1v6pfE24+Jrt/VAA5FKhfmFyzvUdSpIEQA/PM0BRFQDy/vv3jFdGJAAAcW/oRMwf1bHZOPf2a5X3r5EAwKysTO9HaqmMsLDJAKjVVIHhji+rGsovMgDZP6HKZ2r04h4OADiOwRRJ9o8ulOuvgJ5mcTn/MAbxvQViIqpGEfO553A/5GFASIQy0wdJAscBiMHLlqrlF2BaYUm1FAqL3MEaDSA843+dYgYJQC7l6hempTkW5GwohiX3aIIAIPAxHRU+zxPMfRoKAKNfA6qQ3Rfta71+9p2ZzLWjtE/9lkFv2ipuuayu6LBefkS6lQ1rvy1uHfp8h+OFbECn6LdQM9HzLkKocxb1bWgtKkKdYsDSq1jd1umGy2KmzP5it3Xo92utplbSLm0Ozza0PVsnfl+6ibQ+kpqJniOEULsSdVvNFOU9bHeKAW28V+lGKnUjOkNZApVup7Ll3ap0EELNXZfZ6j/t+eu2ztIBr2/3vINah16zxddvjzvN06jXHTh9y/NewTU3O4qQjcVyEmCqitGOlfVVO/lx6uMk4uO/OJLin8I/rr8MleeO4yPFZQy5mggl8hJGkwQ5txnRukoAAKWeCMZKCoYDbuPiHvVRMMFjJLMY31mgAUDYX469XNyJaz3tGKqw/zB4pJA0uxjpfQYqwn4odCThOIYxixGOOAqGqypJeyI7qwwGAHzs22V+5enT1X6OF7MPH2YknKA9keQSgwEAyNXH4UcFGSMwUDGCmePWFxgcAECuPw4nchJGkjgGOD3HcfP/w8XgNUJ+OuT88nfrNcxkoleOj1dvmGa+QK5qdj4phJObN8ErleWMK7l34dpm55OB2TjOIanrI5dkBm/ns02tBjfjs02tBjfDEFInGELqBENInWAIqRMMIXWCIaROMITUCYaQOsEQUicYQuoEQ0idYAipEwwhdYIhpE4whNQJ/wEzk9cuTjTKQQAAAABJRU5ErkJggg==)"
      ]
    },
    {
      "cell_type": "markdown",
      "metadata": {
        "id": "Bj3Cfx7mUDM8"
      },
      "source": [
        "In our data set, the standard deviation will be:"
      ]
    },
    {
      "cell_type": "markdown",
      "metadata": {
        "id": "kOF4aBHUIIzO"
      },
      "source": [
        "![eq5.png](data:image/png;base64,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)"
      ]
    },
    {
      "cell_type": "markdown",
      "metadata": {
        "id": "7rG1dytKXoYg"
      },
      "source": [
        "In Python, we can calculate it as follows:"
      ]
    },
    {
      "cell_type": "code",
      "metadata": {
        "colab": {
          "base_uri": "https://localhost:8080/"
        },
        "id": "cSrvt-4zqX9y",
        "outputId": "f487959f-bbfe-4e2e-ff9c-6bf75b82f186"
      },
      "source": [
        "salaries_df.std(ddof=0)"
      ],
      "execution_count": null,
      "outputs": [
        {
          "output_type": "execute_result",
          "data": {
            "text/plain": [
              "salaries    53500.0\n",
              "dtype: float64"
            ]
          },
          "metadata": {
            "tags": []
          },
          "execution_count": 18
        }
      ]
    },
    {
      "cell_type": "markdown",
      "metadata": {
        "id": "Focgd6kdU4HI"
      },
      "source": [
        "Notice that *53,500* feels more connected to the values in our list, but what does it mean?\n",
        "\n",
        "It means that the salaries in our list are, on average, $53,500 away from the mean.\n",
        "\n",
        "The closer the values are from the mean, the smaller the standard deviation. In our case, the value of the standard deviation was stretched because we have an outlier.\n",
        "\n",
        "Now, just to see how the standard deviation changes, let's eliminate the outlier. Our salaries' list now remains with 9 values:"
      ]
    },
    {
      "cell_type": "markdown",
      "metadata": {
        "id": "FXyrQI1eYjkd"
      },
      "source": [
        "![numbers2.png](data:image/png;base64,iVBORw0KGgoAAAANSUhEUgAAAukAAAAwCAIAAAAjCHOSAAAACXBIWXMAAAuJAAALiQE3ycutAAAQGklEQVR4nO3da1ATVxsH8IMYZeoARSutC4SbJiAhilqhqFQwlKuAIlYQKSrWgmMHqlNaq0IYSqeWMjrjFUq5dFoRbL0UhRqEdrhNB+VSpQKDQgBhghggghASzPth33cn7wZISKKw8fl9cvecs3v+WTd53GxWPZlMhgAAAAAAKGLOTE8AAAAAAGAaoHYBAAAAAJVA7QIAAAAAKoHaBQAAAABUArULAAAAAKgEahcAAAAAUAnULgAAAACgEqhdAAAAAEAlULsAAAAAgEqgdgEAAAAAlUDtAgAAAAAqgdoFAAAAAFQCtQsAAAAAqARqFwAAAABQCdQuAAAAAKASqF0AAAAAQCXTqF1EIpGZmdnw8PDLm82rVFZWxmKxVOzs6elZUlLyUufzykBwVehScLFYbGZm1tTUpErn1zZ4QkJCUlLSy57SqwHBVekMwSlN1dpFIpHU1dUhhCoqKlpbWxU7/Pnnn/b29ocPHyat//TTT83+X2xs7GR7aW1t3bVrF4PBsLOz27dv3+PHj7XVqjaZTNbU1PTs2bOGhoZ//vlHIpGQOvD5fA8PD1dXV9L6ixcvkoI7OztPthdqBRcIBMePH3dxcbG2tl63bt0333zz/Plz+bE8Hs/Hx8fGxsbJyYnL5Y6OjkJwCI4TiUTx8fErVqywtbUNCAiorq7WVqsmuru7Ozs7+Xz+nTt3RCIRsV4sFp87d47D4djY2KxevfrAgQOdnZ1EK5/PN1Mg3wGCUy54T09PUlKSm5ubtbU1m80ODQ2tqqqSH6j62adLwWfjEZepoKqqavXq1RYWFhiGLVu2DMMwd3f38fFxosOZM2csLS3ZbPahQ4dIY3fu3BkcHHxJzt9//z3hXnp7e9lstqenZ35+fl5enoeHh4uLi0gk0rx1QqWlpQ4ODlMH7+np2bx5M4ZhFhYWeHA7O7vW1laiA16xOTk5vffee6Sxp0+fXrlypXzwwsJCHQguEokcHR09PDx++OGH4uLikydPLl26NCoqihhbXl5ubm4eFRX1+++/X7hwYfny5fKtEPzVBx8dHcUw7MGDBzMeXCaTBQcHs1isjIyM69evR0ZGWllZNTQ0aKVVveASiSQuLg4Pbmtra25ubmlpefnyZbw1LCyMzWZ/9913RUVFubm5Li4uzs7OxKtdW1uLYVhGRob8aT40NATBKRpcKpW6u7t/+OGH6enpN27cKCgoCAgIMDc3r6mpwcdO6+zTpeCz8Igrr13EYjGLxYqMjOzo6MAwbGhoqK2trbi4mOhw5MiRZcuW3b59OyQkRLF28fHxSUlJUboXmUyWkpJib2/f39+PL/b19TGZzFOnTmneOiFVPskiIiJcXV0fPnzI4XB4PN7Tp08LCgqIou3atWt0Oj0tLS0tLU2xdklKSvL399fJ4NXV1VKplOiclZWFYVhXVxe+6O/vHxwcTLT+9ddfGIYR5wAEf/XBVXlfezXBy8rKMAyrrKzEF1+8eBEYGLhjxw7NW9UOfv78eSsrq9LS0uPHj3O53JGRkVu3bj1+/BhvbWxsJF5qmUzW1NSEYVhBQQG+WFJSgmGYWCyeYvsQnFrBR0ZG5DuPjIzY2tpyuVx8UfWzT8eCz8Ijrvw7o0ePHgmFwr179xobG+NrrKysvLy8iA5+fn7Xrl3z8PAQi8WKw4VC4VtvvaV0LwghHo/n7e395ptv4ouLFi3y8vK6ceOG5q1qu3v3bmBgoI2NDb64cOHCbdu2zZnz3xfN2dn57NmzcXFxY2NjimOFQuHixYtV2Qvlgru4uOjr6xOdV6xYgRDq6upCCD19+rSurm7Hjh1Eq5ubm5mZWWFhIQSH4Dwej06nE1+w6unphYaGVlZWDg4Oatiqtjt37qxcudLd3R1fNDAw8PT0xDAMX1y+fDnxUiOEmEymgYEBHhwhJBQKDQ0N582bp3QvEJwqwQ0MDOQ7j42NSSQS4iNM9bNPx4LPwiOuvHZZsmTJ3Llzp7h9z9XV1d7eHiE0Pj6u2ErULi9evJhiL1Kp9OHDhw4ODvIrWSxWU1OTVCrVpFVpwCmYm5tXVFRMWJMhhN5++20/Pz/0+gUnaW9vRwjR6XSEUEtLi0wmU5xSY2MjaRQEn3DyOhwcIdTc3KzYc3x8/MGDBxq2qs3c3PzBgwfEp/LUBALB6OgoHhypfI4jCC5n9gcfHx8fHh4WCARlZWWhoaFLly4NDw9Hys5c0kZ0KTialUdcee1ibGwcExOTkZERGhqKEFLx3Q0nkUiGh4eTkpIYDIaFhcXq1asTExOHhoYUew4MDEilUtKFisWLF0ulUqFQqEmr6rNV9Pnnnzc0NGzcuLGnp2dawRFC/f39hYWFLBbLwsLC3t5+//79+Ds+iQ4Ez8nJcXV1XbJkCUKor68PIUS60rZ48WKBQEAaBcEnnLwOB8c7k3rii3hnTVrVtn//fgMDAw6HU1paqjR4VlaWoaEhcdW5v7+/u7vbycnJ0tLS2to6ODi4vLx8woEQfMLJz87gZWVlDAZj1apV4eHhNjY2ly9fNjIyQsrOXNJGdCk4mpVHXKXfGcXHx6enp+NXF1xdXblc7rNnz1QZSKPRMjMzExMTc3Nzc3JyQkJCfvnll7CwMMULFfjXLjQaTX4lfoVqdHRUk1ZV5jkZDw+PwsJCJpMpEoliYmL27dvX1tam4tjk5OSEhIQLFy7k5eUdOnSovr5+8+bN3d3dpG5UD56VldXQ0JCYmIgv4qcE6dLivHnzFOcDwSecvA4HxzuTes6fP5+YvCatanvnnXdu3bq1detWgUCQnZ3t7+8/2ZtyQ0NDenr6kSNHFixYgK/Zs2cPl8tNS0vLz88/ceKEVCoNCwub8BI1BFcj2kwFf/fdd69cuZKbm5uYmHjv3j1vb2/8p7XTOvt0KTialUd8roqx/fz8NmzYYG9vHxISkpOTU1FRcfPmTdJRnJC3tzfxZw6H4+Dg8Mknn5SWlnp6esp3w2dM+gUy/nfFwMAA/95dvVYVA07G0dExOzvb09OTyWRWV1f7+PgUFRVZW1srHchms9lsNv7nDRs2eHl5bdy4MSMjIyEhQb4bpYPfvHkzMTExNTWVuNCH/1Uj3QA0NjamOB8IrkY0SgfHO5N64qUP3lmTVk2YmpqmpKTQaLTGxsaRkZHQ0NAzZ84EBgbK92lra4uIiAgKCoqIiJAfuGvXLmIxKCjI19c3NTWVw+GQdgHB1Yg2U8GNjY3Xrl2LENq0aVNYWJiXl1dSUlJubu7UZ64OB0ez8ohP+7m6X3zxxblz5/7991/Sr95V9MEHH8yZM6e5uZm03sTEhEajPXnyRH7lkydP9PX1TUxMNGlVY5ITCgoKKioqkkgkly5dUmO4hYWFg4NDS0sLaT11g5eWlsbExBw9ejQkJIRYaWpqiv73PYL8lBRvW4bgE05eh4PjnUk98UW8syatWsFms69fv+7o6JiZmSm/vrOzc/v27WvXrj1x4sQUw2k02qZNmxTf3BAEl0OJ4IQFCxZwOJy7d+8iZWcuaaAuBVc0G464Ov8nAPFjBDWIxeIXL1688cYbpPX6+vp2dnak+/saGxttbW1pNJomrWpPVZGpqamhoaHaw0dHR3UmeHl5eVRUVHx8/L59++TX29vb6+vrK06JyWSStgnBJ5y8DgdHCDk4OCj21NPTYzAYGrZqi76+vqWlpfya7u7u7du3s9nss2fPzp2r5EL1hOc4guByZn9wEuILi2mdfboUfLLWmT3iymuX8vLyU6dO1dfX9/f3I4Rqa2u//PJLCwuLNWvWKB2reF9LXl4eQmjdunUIoaGhoe+//760tBRv8vb2Li4uHhgYwBcHBgb++OMP4u4wTVrV09vbe+zYscrKSoFAIJPJ2tvbjxw50t/f7+/vr3Ss4s3Y9fX1TU1N69evxxd//PFH/FqchtFmJHh1dfXu3bsPHz4cHR1NGmtkZOTi4oIfZVxVVVVXVxcxJQj+mgfv6OiQv2Sbn5+/atUq/I48TVrVxuVyb968yefzpVJpf39/dnZ2UVHR1q1b8VaBQBASEmJnZ3f+/HnFzyfS+5tIJLpx4wZxjvN4vLS0NPwDAIJTIvjY2JhiNB6PRzwSfeqzT4eDz8IjrieTyaYOXFFRER0dTdxHTaPR3n///aSkJMWSzd/f387OLjU1lVhz5cqV3377bf369ebm5iMjIxUVFb/++utHH32UnJyMELpz505gYOCJEyd27tyJvxwcDmfhwoUff/yxTCZLT08XCAQlJSX4vDVpnVBZWdnBgwfv378/WQehUBgYGPjo0aP/vlJ6eiwW6+jRo8QBI6SkpBQWFsq/4j09PRERET4+PlZWVvPmzbt//352draNjc2VK1fmz58/Pj7OYDB8fHxOnz5NueCNjY1btmyxtLQMCwuTH7Vo0aKAgACEUF1dXVBQkLe3d1BQUE9Pz8mTJ5lMZkFBAUIIgs9IcLFYbGNjc/v2bTs7u5kNjhCKjIysra397LPPTE1Nr169WlxcnJeXRzzRQZNWNYIjhPbs2cPj8Yh/bGAYFh0dvWfPHoTQ8PCwr69vb29vXFwc6fM7PDycRqMFBwez2WwGg2FiYsLn87Ozs0UiUWFhIX6TUGhoaEtLC3HVHYLP/uANDQ179+7dtm0bk8k0Njbm8/mZmZl9fX1Xr17FNzj12afDwWfjEVf6mDz88XYCgeDu3bsYhgmFwsm6+fn5kZ6ry+fzDx486OzsbG1tvXTpUj8/v4sXLxKt2dnZdDq9r69Pvv/u3bsZDMayZcvCw8Pln76vYasiVZ6yKpPJBgYGWltb169fP9kT/WUy2ddff016ru7o6GhycrKbmxuDwbC0tNywYcO33347PDyMtzY3N2MYVlRURMXgP//8MzYRDodD9CkvL/f19bW2tnZ0dIyPjx8cHITgMxhclWduvrLgw8PDx44dY7PZVlZWPj4+JSUl8vvSpFXt4M+fP29vbz9w4MBXX30lv76trW3C4BiG4QF/+uknX19fBwcHOp2+atWquLi4jo4OYrijo+Px48chOIWCDwwMJCcnb9y4kclk0un0NWvWxMbGtre3y/eZ4uzT4eCz8IirVLvgBgcHMQyb7L8wUENsbGxkZKS2tjZdKn6S4fAHpWtr1/n5+SwWa2xsTFsbnBYIrgpdCq7i+xrutQ2OPyhdW7vu7OzEMOzevXva2uC0QHBVOkNwrZip4Kr+RhohZGRkpK3/sRZXU1ND+sHwrMXj8bS4tZqamm3btmn35sqXBIJrBQTX4jZfEi6Xq8Wt1dTUODo6slgsLW7zJYHgWgHBtbhNVUyjdtG6ioqKGdz7DJr6B4c6DIK/bl7b4Fu2bNmyZctMz2IGQPDXzUwFV+c30gAAAAAAM0X574wAAAAAAGYPuO4CAAAAACqB2gUAAAAAVAK1CwAAAACoBGoXAAAAAFAJ1C4AAAAAoBKoXQAAAABAJVC7AAAAAIBKoHYBAAAAAJVA7QIAAAAAKoHaBQAAAABUArULAAAAAKgEahcAAAAAUMl/AGGzePI1pI2CAAAAAElFTkSuQmCC)"
      ]
    },
    {
      "cell_type": "markdown",
      "metadata": {
        "id": "OSi-BHBnvqxm"
      },
      "source": [
        "Once again, let's build a simple DataFrame from our new list of values and let Python give us the standard deviation."
      ]
    },
    {
      "cell_type": "code",
      "metadata": {
        "id": "CtgbaNsOXtaI"
      },
      "source": [
        "salaries2 = [15000, 15000, 20000, 20000, 20000, 25000, 25000, 30000, 35000]\n",
        "salaries2_df = pd.DataFrame(salaries2, columns=['salaries'])"
      ],
      "execution_count": 9,
      "outputs": []
    },
    {
      "cell_type": "code",
      "metadata": {
        "colab": {
          "base_uri": "https://localhost:8080/"
        },
        "id": "iNpAYV82XxC1",
        "outputId": "c5665cd9-e2dd-4bdb-e5e1-f86b1cd7a09a"
      },
      "source": [
        "salaries2_df.std(ddof=0)"
      ],
      "execution_count": 5,
      "outputs": [
        {
          "output_type": "execute_result",
          "data": {
            "text/plain": [
              "Salaries    6285.393611\n",
              "dtype: float64"
            ]
          },
          "metadata": {
            "tags": []
          },
          "execution_count": 5
        }
      ]
    },
    {
      "cell_type": "code",
      "metadata": {
        "colab": {
          "base_uri": "https://localhost:8080/"
        },
        "id": "EjO8nX-dBIkc",
        "outputId": "dcc3ae09-81e1-49d9-82ca-69fa58caf375"
      },
      "source": [
        "salaries2_df.mean()"
      ],
      "execution_count": 54,
      "outputs": [
        {
          "output_type": "execute_result",
          "data": {
            "text/plain": [
              "salaries    22777.777778\n",
              "dtype: float64"
            ]
          },
          "metadata": {
            "tags": []
          },
          "execution_count": 54
        }
      ]
    },
    {
      "cell_type": "markdown",
      "metadata": {
        "id": "47OafdGhwOP2"
      },
      "source": [
        "Notice that without the outlier, the value of the standard deviation declined dramatically. Considering this new set of values, the salaries would be, on average, $6,285 away from the mean, which in this case is 22,777. "
      ]
    },
    {
      "cell_type": "markdown",
      "metadata": {
        "id": "Yu-MPLASB21d"
      },
      "source": [
        "## Conclusion\n",
        "\n",
        "I hope this quick article may help you understand the concepts of **variance** and **standard deviation**. This is the third article of this series on introductory statistical concepts. If you are interested, you can find the previous article, about data dispersion, [here](https://bit.ly/3eyZ6HI).\n",
        "\n",
        "Let's recap what we saw here today.\n",
        "\n",
        "In statistics, **variance** and **standard deviation** help us measure the variability of the data, how the values fluctuate around the mean.\n",
        "\n",
        "#### **Variance**\n",
        "\n",
        "*   It's the average of the squared differences from the mean.\n",
        "*   $\\sigma^2 = \\frac{\\sum x^2}{n}-{\\mu^2}$\n",
        "\n",
        "#### **Standard Deviation**\n",
        "\n",
        "*   It's the square root of the variance.\n",
        "*   $\\sigma = \\sqrt{variance}$\n",
        "*   Usually, more intuitive than the variance.\n",
        "\n",
        "\n",
        "\n"
      ]
    },
    {
      "cell_type": "markdown",
      "metadata": {
        "id": "1Emr0cTLF5Zh"
      },
      "source": [
        "### Reference\n",
        "[1] Griffiths, D. Head First Statistics: A Brain-Friendly Guide. O'Reilly, 2008.\n"
      ]
    }
  ]
}